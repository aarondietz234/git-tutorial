{
 "cells": [
  {
   "cell_type": "code",
   "execution_count": null,
   "id": "768ed8b7-bdcf-4430-aca2-363951cc1d76",
   "metadata": {},
   "outputs": [],
   "source": [
    "Something to clone."
   ]
  },
  {
   "cell_type": "code",
   "execution_count": null,
   "id": "0e3d1f28-6388-48cf-953f-dc533a346bd1",
   "metadata": {},
   "outputs": [],
   "source": [
    "# [START description]\n",
    "\n",
    "Content to copy from\n",
    "\n",
    "* Bullet\n",
    "\n",
    "* Bullet\n",
    "\n",
    "* Bullet\n",
    "\n",
    "More content\n",
    "\n",
    "# [END description]"
   ]
  },
  {
   "cell_type": "code",
   "execution_count": null,
   "id": "9709aa46-2dc9-4c3b-b30a-aabb26cf2e37",
   "metadata": {},
   "outputs": [],
   "source": []
  },
  {
   "cell_type": "code",
   "execution_count": null,
   "id": "ad84bb0e-1e31-4124-b847-fab3a17db964",
   "metadata": {},
   "outputs": [],
   "source": []
  },
  {
   "cell_type": "code",
   "execution_count": null,
   "id": "1f25f1a3-7bea-4abd-be6f-8bfdc1ae24a2",
   "metadata": {},
   "outputs": [],
   "source": []
  }
 ],
 "metadata": {
  "environment": {
   "kernel": "conda-root-py",
   "name": "workbench-notebooks.m113",
   "type": "gcloud",
   "uri": "gcr.io/deeplearning-platform-release/workbench-notebooks:m113"
  },
  "kernelspec": {
   "display_name": "Python 3 (ipykernel) (Local)",
   "language": "python",
   "name": "conda-root-py"
  },
  "language_info": {
   "codemirror_mode": {
    "name": "ipython",
    "version": 3
   },
   "file_extension": ".py",
   "mimetype": "text/x-python",
   "name": "python",
   "nbconvert_exporter": "python",
   "pygments_lexer": "ipython3",
   "version": "3.10.13"
  }
 },
 "nbformat": 4,
 "nbformat_minor": 5
}
